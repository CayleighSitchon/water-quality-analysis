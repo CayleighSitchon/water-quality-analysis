{
 "cells": [
  {
   "cell_type": "markdown",
   "id": "2d6d35e8",
   "metadata": {},
   "source": [
    "# Python Water Quality Analysis: Elemental Concentration in the Friant-Kern Canal\n",
    "\n",
    "\n",
    "Hello! My name is Cayleigh, and I am a chemical engineering student at Clovis Community College. This notebook is an independent data analysis project from what I've been working on with a research group on water quality in the Friant-Kern Canal. We're looking to investigate metal concentrations, with special regard for environmental hazard and agricultural runoff. I'm analyzing my research group's data collected from Octoberthrough May(minus Nov and Dec).\n",
    "\n",
    "This is a segment of my effort to gain experience in environmental chemistry, data science, and community-impact research. I am also studying Python and MATLAB independently to further understand scientific data and advance my competence in experimental analysis. \n",
    "\n",
    "Below shows parts of my process—cleaning, visualizing, and examines seasonal trends, visualize concentration distributions, and assess potential health risks, with a focus on Thallium (Tl)."
   ]
  },
  {
   "cell_type": "code",
   "execution_count": null,
   "id": "f4492fb0",
   "metadata": {},
   "outputs": [],
   "source": [
    "# 1. Imports and Setup\n",
    "import pandas as pd\n",
    "import matplotlib.pyplot as plt\n",
    "import seaborn as sns\n",
    "sns.set(style='whitegrid')# I chose 'whitegrid' for better visibility of the data points(stat plot); \n",
    "#I want to focus on distribution and relationships in the data not really the aesthetics. "
   ]
  },
  {
   "cell_type": "markdown",
   "id": "f351d63b",
   "metadata": {},
   "source": [
    "## 2. Load and Label Monthly Data"
   ]
  },
  {
   "cell_type": "code",
   "execution_count": null,
   "id": "1c5a6df0",
   "metadata": {},
   "outputs": [],
   "source": [
    "# Load monthly data (update paths as needed) Skipped December and November due to insufficent data. \n",
    "# May dataset was my first dataset I plotted, that is why it's xlsx is Kern_Data\n",
    "# Dictionary that maps month names to filenames\n",
    "months = {\n",
    "    'October': 'Oct2024_Data.xlsx',\n",
    "    'January': 'Jan2025_Data.xlsx',\n",
    "    'February': 'Feb2025_Data.xlsx',\n",
    "    'March': 'March2025_Data.xlsx',\n",
    "    'April': 'April2025_Data.xlsx',\n",
    "    'May': 'Kern_Data.xlsx'\n",
    "}\n",
    "\n",
    "# Loop through each month to clean the data from uneccessary columns and rows, and adds a Month column to each dataframe\n",
    "dataframes = [] #[] collects clean data from each month\n",
    "for month, filename in months.items():\n",
    "    df = pd.read_excel(f'../data/{filename}')  # Adjust path if needed\n",
    "    df.columns = df.columns.str.strip()\n",
    "    df['Month'] = month\n",
    "    dataframes.append(df) \n",
    "    #gave me a hard time understanding I needed to append the dataframes to a list, \n",
    "    #so I can combine them later\n",
    "\n",
    "# COmbines all data into a single dataframe. def:concat()= cancatenate/combine multiple dataframes into one \n",
    "all_data = pd.concat(dataframes, ignore_index=True)"
   ]
  },
  {
   "cell_type": "markdown",
   "id": "4ca0ebde",
   "metadata": {},
   "source": [
    "## 3. Clean Data"
   ]
  },
  {
   "cell_type": "code",
   "execution_count": null,
   "id": "cfc9bd65",
   "metadata": {},
   "outputs": [],
   "source": [
    "# Had to convert the concentration(ppm) to all float/integer values and also remove rows with NaN/No values in the conc column\n",
    "all_data['Concentration'] = pd.to_numeric(all_data['Concentration'], errors='coerce')\n",
    "all_data = all_data.dropna(subset=['Concentration'])#Drops anything that isnt a number\n",
    "\n",
    "# Remove diluted and non-field samples\n",
    "# #Lims ID column is the type of sample. My research group labeled samples based on what road we collected it from\n",
    "#or if it is a standard sample(DI or NO3.) \n",
    "all_data['Lims ID'] = all_data['Lims ID'].astype(str)  \n",
    "all_data = all_data[~all_data['Lims ID'].str.contains(r'\\d+\\.\\d+', regex=True)]\n",
    "#Decided to remove any Lims ID with a decimal(.) in it to take out the diluted \n",
    "# samples(1.5, 2.5, 3.5) which my research group tested for precision.\n",
    "all_data = all_data[~all_data['Lims ID'].str.contains('DI|HNO', case=False, na=False)]\n",
    "all_data['Location'] = all_data['Lims ID'].str.extract(r'([A-Za-z\\s]+)', expand=False).str.strip() # Extract clean location name"
   ]
  },
  {
   "cell_type": "markdown",
   "id": "56d968df",
   "metadata": {},
   "source": [
    "## 4. Heatmap of Top Elements by Location"
   ]
  },
  {
   "cell_type": "code",
   "execution_count": null,
   "id": "5f92c4e6",
   "metadata": {},
   "outputs": [],
   "source": [
    "# Here, I sort the water quality data by element and location and calculate\n",
    "# the average concentration of each metal at each sampling site. Then I focus on\n",
    "# the top 10 elements with the largest overall average concentrations to limit the significant metals\n",
    "# of interest.\n",
    "\n",
    "element_avg = all_data.groupby(['Element Label', 'Location'])['Concentration'].mean().reset_index()\n",
    "top_elements = (all_data.groupby('Element Label')['Concentration']\n",
    "                .mean().sort_values(ascending=False).head(10).index)\n",
    "element_avg = element_avg[element_avg['Element Label'].isin(top_elements)]\n",
    "\n",
    "\n",
    "# To visualize this data, I create a heatmap showing how these top elements vary by location.\n",
    "# This enables me to easily spot patterns or hotspots of metal concentration along the canal, which\n",
    "# may signify potential sources of contamination or areas needing additional monitoring. I havent\n",
    "# fully analyzed the data or effects of  high conc. metals on crop growth which I'd like to explore in the future. \n",
    "heatmap_data = element_avg.pivot(index='Element Label', columns='Location', values='Concentration')\n",
    "\n",
    "plt.figure(figsize=(12, 8))\n",
    "sns.heatmap(heatmap_data, cmap=\"viridis\", annot=True, fmt=\".3f\")\n",
    "plt.title('Average Concentration of Top Elements by Location')\n",
    "plt.ylabel('Element')\n",
    "plt.xlabel('Location')\n",
    "plt.tight_layout()\n",
    "plt.show() #I want to learn how to create a dropdown menu to select the month and plot of the data for that month. "
   ]
  },
  {
   "cell_type": "markdown",
   "id": "29894c66",
   "metadata": {},
   "source": [
    "## 5. Boxplot of Element Concentrations (Log Scale)"
   ]
  },
  {
   "cell_type": "code",
   "execution_count": null,
   "id": "79359bf9",
   "metadata": {},
   "outputs": [],
   "source": [
    "# Here, I learned how to use a boxplot to examine the distribution of concentrations for the major elements\n",
    "# for all samples. This plot indicates to me the spread and variability\n",
    "# count of each metal's concentration, including outliers.\n",
    "\n",
    "plt.figure(figsize=(14, 6))\n",
    "sns.boxplot(data=all_data[all_data['Element Label'].isin(top_elements)],\n",
    "            x='Element Label', y='Concentration')\n",
    "plt.yscale('log')\n",
    "plt.title('Distribution of Element Concentrations')\n",
    "plt.xlabel('Element')\n",
    "plt.ylabel('Concentration (ppm)')\n",
    "plt.tight_layout()\n",
    "plt.show()\n",
    "# As metal concentrations may vary widely, I put a log scale on the y-axis\n",
    "# To better capture and contrast values that differ by orders of magnitude."
   ]
  },
  {
   "cell_type": "markdown",
   "id": "cdcf4fda",
   "metadata": {},
   "source": [
    "## 6. Thallium (Tl) Concentration Focus"
   ]
  },
  {
   "cell_type": "code",
   "execution_count": null,
   "id": "536382e8",
   "metadata": {},
   "outputs": [],
   "source": [
    "# I'm aiming at Thallium (Tl) as my mentor found this concentration most alarming/suprising in Kern canal\n",
    "# it's a poisonous metal of interest in water quality.\n",
    "# I first exclude the data to keep only those samples that are labeled as 'Tl'.\n",
    "# I then exclude any laboratory control/standard or reagent blank (samples with 'DI' or 'HNO') in order to keep\n",
    "# the analysis strictly to actual field samples.\n",
    "\n",
    "tl_data = all_data[all_data['Element Label'] == 'Tl'].copy()\n",
    "tl_data = tl_data[~tl_data['Lims ID'].str.contains('DI|HNO', case=False, na=False)]\n",
    "tl_data['Location'] = tl_data['Lims ID'].str.extract(r'([A-Za-z\\s]+)', expand=False).str.strip()\n",
    "# I next extract the common location name from the sample ID in order to group data appropriately.\n",
    "# Average Tl by location and month\n",
    " #I calculate the average concentration of Thallium for each location and month,\n",
    "# and sort the results to find out where the locations with highest concentrations are.\n",
    "tl_avg = tl_data.groupby(['Location', 'Month'])['Concentration'].mean().reset_index()\n",
    "tl_avg_sorted = tl_avg.sort_values('Concentration', ascending=False)"
   ]
  },
  {
   "cell_type": "code",
   "execution_count": null,
   "id": "a1a61219",
   "metadata": {},
   "outputs": [],
   "source": [
    "# Now I wanted to plot the comparison of Thallium levels across all the sites to possibly discover \n",
    "# if there is a location source where Tl is more concentrated\n",
    "# I use a bar plot to show the **mean Thallium concentration** for each site,\n",
    "# in the order from highest to lowest. This helps me to identify the areas\n",
    "# where Thallium pollution might be an issue.\n",
    "\n",
    "plt.figure(figsize=(12, 6))\n",
    "sns.barplot(data=tl_avg_sorted, x='Location', y='Concentration')\n",
    "plt.title('Average Thallium Concentration by Location (Highest to Lowest)')\n",
    "plt.xlabel('Location')\n",
    "plt.ylabel('Average Concentration (ppm)')\n",
    "plt.grid(axis='y', linestyle='--', alpha=0.7)\n",
    "plt.tight_layout()\n",
    "plt.show()"
   ]
  },
  {
   "cell_type": "code",
   "execution_count": null,
   "id": "a3539955",
   "metadata": {},
   "outputs": [],
   "source": [
    "# Bar plot with EPA limit\n",
    "plt.figure(figsize=(12, 6))\n",
    "sns.barplot(data=tl_avg, x='Location', y='Concentration', hue='Month')\n",
    "plt.axhline(y=0.002, color='red', linestyle='--', linewidth=1, label='EPA Limit (0.002 ppm)')\n",
    "plt.title('Thallium Concentration by Location and Month')\n",
    "plt.xlabel('Location')\n",
    "plt.ylabel('Concentration (ppm)')\n",
    "plt.legend()\n",
    "plt.xticks(rotation=45)\n",
    "plt.tight_layout()\n",
    "plt.grid(axis='y', linestyle='--', alpha=0.7)\n",
    "plt.show()"
   ]
  }
 ],
 "metadata": {
  "language_info": {
   "name": "python"
  }
 },
 "nbformat": 4,
 "nbformat_minor": 5
}
